{
 "cells": [
  {
   "cell_type": "code",
   "execution_count": 1,
   "metadata": {},
   "outputs": [
    {
     "name": "stdout",
     "output_type": "stream",
     "text": [
      "importing Jupyter notebook from utils.ipynb\n"
     ]
    },
    {
     "name": "stderr",
     "output_type": "stream",
     "text": [
      "Using TensorFlow backend.\n"
     ]
    }
   ],
   "source": [
    "import matplotlib\n",
    "matplotlib.use(\"TkAgg\")\n",
    "import import_ipynb\n",
    "import utils\n",
    "from utils import preprocess, feature_engineer\n",
    "import pandas as pd\n",
    "import numpy as np\n",
    "from sklearn.preprocessing import scale\n",
    "from sklearn.model_selection import train_test_split\n",
    "from keras.models import Sequential\n",
    "from keras.layers import Dense\n",
    "from keras.layers import BatchNormalization\n",
    "from sklearn.metrics import mean_squared_error"
   ]
  },
  {
   "cell_type": "code",
   "execution_count": 2,
   "metadata": {},
   "outputs": [],
   "source": [
    "df = pd.read_csv('NYC_taxi.csv', parse_dates = ['pickup_datetime'], nrows = 500000)"
   ]
  },
  {
   "cell_type": "code",
   "execution_count": 3,
   "metadata": {},
   "outputs": [],
   "source": [
    "# Perform preprocessing and feature engineering\n",
    "df = preprocess(df)\n",
    "df = feature_engineer(df)"
   ]
  },
  {
   "cell_type": "code",
   "execution_count": 4,
   "metadata": {},
   "outputs": [],
   "source": [
    "# Scale the features\n",
    "df_prescaled = df.copy()\n",
    "df_scaled = df.drop(['fare_amount'], axis = 1)\n",
    "df_scaled = scale(df_scaled)\n",
    "cols = df.columns.tolist()\n",
    "cols.remove('fare_amount')\n",
    "df_scaled = pd.DataFrame(df_scaled, columns = cols, index = df.index)\n",
    "df_scaled = pd.concat([df_scaled, df['fare_amount']], axis = 1)\n",
    "df = df_scaled.copy()"
   ]
  },
  {
   "cell_type": "code",
   "execution_count": 5,
   "metadata": {},
   "outputs": [],
   "source": [
    "# Split the dataframe into a training and testing set\n",
    "X = df.loc[:, df.columns != 'fare_amount'] \n",
    "y = df.fare_amount\n",
    "X_train, X_test, y_train, y_test = train_test_split(X, y, test_size = 0.2)"
   ]
  },
  {
   "cell_type": "code",
   "execution_count": 6,
   "metadata": {},
   "outputs": [],
   "source": [
    "# Build neural network in Keras\n",
    "model = Sequential()\n",
    "model.add(Dense(128, activation = 'relu', input_dim = X_train.shape[1]))\n",
    "# model.add(BatchNormalization())\n",
    "model.add(Dense(64, activation = 'relu'))\n",
    "model.add(Dense(32, activation = 'relu'))\n",
    "model.add(Dense(8, activation = 'relu'))\n",
    "model.add(Dense(1))"
   ]
  },
  {
   "cell_type": "code",
   "execution_count": 7,
   "metadata": {},
   "outputs": [],
   "source": [
    "model.compile(loss = 'mse', optimizer = 'adam', metrics = ['mse'])"
   ]
  },
  {
   "cell_type": "code",
   "execution_count": 8,
   "metadata": {},
   "outputs": [
    {
     "name": "stdout",
     "output_type": "stream",
     "text": [
      "Epoch 1/5\n",
      "386741/386741 [==============================] - 17s 44us/step - loss: 14.3545 - mse: 14.3545\n",
      "Epoch 2/5\n",
      "386741/386741 [==============================] - 18s 48us/step - loss: 12.1066 - mse: 12.1066\n",
      "Epoch 3/5\n",
      "386741/386741 [==============================] - 19s 48us/step - loss: 11.7757 - mse: 11.7756\n",
      "Epoch 4/5\n",
      "386741/386741 [==============================] - 19s 50us/step - loss: 11.5846 - mse: 11.5846\n",
      "Epoch 5/5\n",
      "386741/386741 [==============================] - 17s 45us/step - loss: 11.4608 - mse: 11.4608\n"
     ]
    },
    {
     "data": {
      "text/plain": [
       "<keras.callbacks.callbacks.History at 0x20cd806b4e0>"
      ]
     },
     "execution_count": 8,
     "metadata": {},
     "output_type": "execute_result"
    }
   ],
   "source": [
    "model.fit(X_train, y_train, epochs = 5)"
   ]
  },
  {
   "cell_type": "code",
   "execution_count": 11,
   "metadata": {},
   "outputs": [
    {
     "name": "stdout",
     "output_type": "stream",
     "text": [
      "Train RMSE: 3.34\n",
      "Test RMSE: 3.29\n"
     ]
    }
   ],
   "source": [
    "# Results\n",
    "train_pred = model.predict(X_train)\n",
    "train_rmse = np.sqrt(mean_squared_error(y_train, train_pred))\n",
    "test_pred = model.predict(X_test)\n",
    "test_rmse = np.sqrt(mean_squared_error(y_test, test_pred))\n",
    "print(\"Train RMSE: {:0.2f}\".format(train_rmse))\n",
    "print(\"Test RMSE: {:0.2f}\".format(test_rmse))"
   ]
  },
  {
   "cell_type": "code",
   "execution_count": 10,
   "metadata": {},
   "outputs": [
    {
     "name": "stdout",
     "output_type": "stream",
     "text": [
      "Trip Details: Saturday, 21:00hrs\n",
      "Actual fare: $16.50\n",
      "Predicted fare: $16.94\n",
      "RMSE: $0.44\n"
     ]
    }
   ],
   "source": [
    "def predict_random(df_prescaled, X_test, model):\n",
    "    sample = X_test.sample(n = 1, random_state = np.random.randint(low = 0, high = 10000))\n",
    "    idx = sample.index[0]\n",
    "\n",
    "    actual_fare = df_prescaled.loc[idx,'fare_amount']\n",
    "    day_names = ['Monday', 'Tuesday', 'Wednesday', 'Thursday', 'Friday', 'Saturday', 'Sunday']\n",
    "    day_of_week = day_names[df_prescaled.loc[idx,'day_of_week']]\n",
    "    hour = df_prescaled.loc[idx,'hour']\n",
    "    predicted_fare = model.predict(sample)[0][0]\n",
    "    rmse = np.sqrt(np.square(predicted_fare - actual_fare))\n",
    "\n",
    "    print(\"Trip Details: {}, {}:00hrs\".format(day_of_week, hour))  \n",
    "    print(\"Actual fare: ${:0.2f}\".format(actual_fare))\n",
    "    print(\"Predicted fare: ${:0.2f}\".format(predicted_fare))\n",
    "    print(\"RMSE: ${:0.2f}\".format(rmse))\n",
    "\n",
    "predict_random(df_prescaled, X_test, model)"
   ]
  },
  {
   "cell_type": "code",
   "execution_count": null,
   "metadata": {},
   "outputs": [],
   "source": []
  }
 ],
 "metadata": {
  "kernelspec": {
   "display_name": "Python 3",
   "language": "python",
   "name": "python3"
  },
  "language_info": {
   "codemirror_mode": {
    "name": "ipython",
    "version": 3
   },
   "file_extension": ".py",
   "mimetype": "text/x-python",
   "name": "python",
   "nbconvert_exporter": "python",
   "pygments_lexer": "ipython3",
   "version": "3.7.3"
  }
 },
 "nbformat": 4,
 "nbformat_minor": 2
}
